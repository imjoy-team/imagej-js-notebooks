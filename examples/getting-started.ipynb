{
 "cells": [
  {
   "cell_type": "markdown",
   "metadata": {},
   "source": [
    "# Running ImageJ.JS in a notebook"
   ]
  },
  {
   "cell_type": "code",
   "execution_count": null,
   "metadata": {},
   "outputs": [],
   "source": [
    "!pip install -U imjoy imageio numpy"
   ]
  },
  {
   "cell_type": "code",
   "execution_count": null,
   "metadata": {},
   "outputs": [],
   "source": [
    "from imjoy import api\n",
    "import numpy as np\n",
    "import imageio\n",
    "\n",
    "# download an example image\n",
    "image = imageio.imread(\"https://images.proteinatlas.org/115/672_E2_1_blue_red_green.jpg\")\n",
    "\n",
    "class ImJoyPlugin():\n",
    "    async def setup(self):\n",
    "        pass\n",
    "    \n",
    "    async def runFFT(self):\n",
    "        await self.ij.runMacro('run(\"FFT\");')\n",
    "        await api.showMessage('You just triggered FFT from ImJoy!')\n",
    "        \n",
    "    async def run(self, ctx):\n",
    "        # load the ImageJ.JS window\n",
    "        self.ij = await api.createWindow(src=\"https://ij.imjoy.io\")\n",
    "\n",
    "        # show an image\n",
    "        await self.ij.viewImage(image, name=\"my-image\")\n",
    "        \n",
    "        # add a button under \"Plugins\" menu and set a callback in Python\n",
    "        await self.ij.addMenuItem({\"label\": \"Run FFT (ImJoy)\", \"callback\": self.runFFT})\n",
    "        \n",
    "        # more api, see https://github.com/imjoy-team/imagej.js#imjoy-integration-and-api\n",
    "        await api.alert(\"Sample image loaded, try to click `Plugins -> Run FFT (ImJoy).`\")\n",
    "\n",
    "api.export(ImJoyPlugin())"
   ]
  },
  {
   "cell_type": "code",
   "execution_count": null,
   "metadata": {},
   "outputs": [],
   "source": []
  }
 ],
 "metadata": {
  "kernelspec": {
   "display_name": "Python 3",
   "language": "python",
   "name": "python3"
  },
  "language_info": {
   "codemirror_mode": {
    "name": "ipython",
    "version": 3
   },
   "file_extension": ".py",
   "mimetype": "text/x-python",
   "name": "python",
   "nbconvert_exporter": "python",
   "pygments_lexer": "ipython3",
   "version": "3.7.8-final"
  }
 },
 "nbformat": 4,
 "nbformat_minor": 2
}